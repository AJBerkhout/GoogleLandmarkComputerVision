{
 "cells": [
  {
   "cell_type": "markdown",
   "metadata": {
    "_cell_guid": "048d1d0f-8c94-4f48-9ed8-66f9b289d55f",
    "_uuid": "8ba2b81da7112bb2c444597f0c683da06f46b532"
   },
   "source": [
    "This is fast image downloader using this trick:\n",
    "https://www.kaggle.com/c/landmark-recognition-challenge/discussion/49703\n",
    "And you can change target size that you prefer.\n",
    "\n",
    "Reference:\n",
    "https://www.kaggle.com/c/landmark-recognition-challenge/discussion/48895\n",
    "```\n",
    "For 256,256 this should be 22 GB\n",
    "For 224,224 this should be 16.8 GB\n",
    "For 139,139 this should be 6.5 GB\n",
    "For 128,128 this should be 5.5 GB\n",
    "For 96,96 this should be 3.1 GB\n",
    "For 64,64 this should be 1.4 GB\n",
    "```"
   ]
  },
  {
   "cell_type": "code",
   "execution_count": 1,
   "metadata": {
    "_cell_guid": "e097aec8-4b08-4a52-a2ea-356ba28f23ca",
    "_uuid": "37602ab4582f8bb69e165a7c52f33de7a020d480",
    "scrolled": true
   },
   "outputs": [
    {
     "ename": "ModuleNotFoundError",
     "evalue": "No module named 'ipynb'",
     "output_type": "error",
     "traceback": [
      "\u001b[1;31m---------------------------------------------------------------------------\u001b[0m",
      "\u001b[1;31mModuleNotFoundError\u001b[0m                       Traceback (most recent call last)",
      "\u001b[1;32m<ipython-input-1-47fa0ef089f0>\u001b[0m in \u001b[0;36m<module>\u001b[1;34m\u001b[0m\n\u001b[0;32m      6\u001b[0m \u001b[1;32mimport\u001b[0m \u001b[0mre\u001b[0m\u001b[1;33m\u001b[0m\u001b[1;33m\u001b[0m\u001b[0m\n\u001b[0;32m      7\u001b[0m \u001b[1;32mimport\u001b[0m \u001b[0mtqdm\u001b[0m\u001b[1;33m\u001b[0m\u001b[1;33m\u001b[0m\u001b[0m\n\u001b[1;32m----> 8\u001b[1;33m \u001b[1;32mfrom\u001b[0m \u001b[0mipynb\u001b[0m\u001b[1;33m.\u001b[0m\u001b[0mfs\u001b[0m\u001b[1;33m.\u001b[0m\u001b[0mfull\u001b[0m\u001b[1;33m.\u001b[0m\u001b[0mHelper\u001b[0m \u001b[1;32mimport\u001b[0m \u001b[0mdownload_image\u001b[0m\u001b[1;33m,\u001b[0m \u001b[0moverwrite_urls\u001b[0m\u001b[1;33m,\u001b[0m \u001b[0mparse_data\u001b[0m\u001b[1;33m\u001b[0m\u001b[1;33m\u001b[0m\u001b[0m\n\u001b[0m\u001b[0;32m      9\u001b[0m \u001b[1;32mfrom\u001b[0m \u001b[0mPIL\u001b[0m \u001b[1;32mimport\u001b[0m \u001b[0mImage\u001b[0m\u001b[1;33m\u001b[0m\u001b[1;33m\u001b[0m\u001b[0m\n\u001b[0;32m     10\u001b[0m \u001b[1;33m\u001b[0m\u001b[0m\n",
      "\u001b[1;31mModuleNotFoundError\u001b[0m: No module named 'ipynb'"
     ]
    }
   ],
   "source": [
    "import multiprocessing\n",
    "import os\n",
    "from io import BytesIO\n",
    "from urllib import request\n",
    "import pandas as pd\n",
    "import re\n",
    "import tqdm\n",
    "from ipynb.fs.full.Helper import download_image, overwrite_urls, parse_data\n",
    "from PIL import Image\n",
    "\n",
    "\n",
    "# set files and dir\n",
    "CSV_PATH, OUT_DIR = '../input/train.csv', '../input/train'  # recognition challenge\n",
    "# CSV_PATH, OUT_DIR = '../input/index.csv', '../input/index'  # retrieval challenge\n",
    "# CSV_PATH, OUT_DIR = '../input/test.csv', '../input/test'  # test data\n",
    "\n",
    "# preferences\n",
    "TARGET_SIZE = 64  # image resolution to be stored\n",
    "IMG_QUALITY = 90  # JPG quality\n",
    "NUM_WORKERS = 8  # Num of CPUs"
   ]
  },
  {
   "cell_type": "code",
   "execution_count": null,
   "metadata": {
    "_cell_guid": "e09be776-5baa-41c8-a99b-a56c49124d3c",
    "_uuid": "d6e1daa19a1099b1cff18c466598cabc5527ab06"
   },
   "outputs": [],
   "source": []
  },
  {
   "cell_type": "markdown",
   "metadata": {
    "_cell_guid": "a4ad759b-4014-4477-b75c-af10e4f718d1",
    "_uuid": "71befb4791887baf9a9f18c3d365aaae94c88066"
   },
   "source": [
    "We found that almost images have 1600x resolution.\n",
    "Downloading such a high resolution images takes so much time, so I recommend you to download images after changing url \"s1600\" to \"s{TARGET_SIZE}\" like the below script."
   ]
  },
  {
   "cell_type": "code",
   "execution_count": null,
   "metadata": {
    "_cell_guid": "b713704e-8e75-4b12-9620-d0b582ad7f7d",
    "_uuid": "af08d9b8e92a4a532b1425814bbd5593638763d3"
   },
   "outputs": [],
   "source": [
    "def loader(df):\n",
    "    if not os.path.exists(OUT_DIR):\n",
    "        os.mkdir(OUT_DIR)\n",
    "\n",
    "    key_url_list = parse_data(df)\n",
    "    pool = multiprocessing.Pool(processes=NUM_WORKERS)\n",
    "    failures = sum(tqdm.tqdm(pool.imap_unordered(download_image, key_url_list),\n",
    "                             total=len(key_url_list)))\n",
    "    print('Total number of download failures:', failures)\n",
    "    pool.close()\n",
    "    pool.terminate()"
   ]
  },
  {
   "cell_type": "code",
   "execution_count": null,
   "metadata": {
    "_cell_guid": "5a8fb78f-c46e-4b85-95e2-40736aa1e9ec",
    "_uuid": "6a17d89433c4bdb281ba7a1dd564b260181c7fd9",
    "scrolled": true
   },
   "outputs": [],
   "source": [
    "# now, start downloading\n",
    "if __name__ == '__main__':\n",
    "    df = pd.read_csv(CSV_PATH).query('url != \"None\"')\n",
    "    loader(overwrite_urls(df))"
   ]
  },
  {
   "cell_type": "code",
   "execution_count": null,
   "metadata": {},
   "outputs": [],
   "source": []
  }
 ],
 "metadata": {
  "kernelspec": {
   "display_name": "Python 3",
   "language": "python",
   "name": "python3"
  },
  "language_info": {
   "codemirror_mode": {
    "name": "ipython",
    "version": 3
   },
   "file_extension": ".py",
   "mimetype": "text/x-python",
   "name": "python",
   "nbconvert_exporter": "python",
   "pygments_lexer": "ipython3",
   "version": "3.7.6"
  }
 },
 "nbformat": 4,
 "nbformat_minor": 1
}
